{
  "nbformat": 4,
  "nbformat_minor": 0,
  "metadata": {
    "colab": {
      "provenance": [],
      "authorship_tag": "ABX9TyPTPfJGp4G+yAbTqx+nh/To",
      "include_colab_link": true
    },
    "kernelspec": {
      "name": "python3",
      "display_name": "Python 3"
    },
    "language_info": {
      "name": "python"
    }
  },
  "cells": [
    {
      "cell_type": "markdown",
      "metadata": {
        "id": "view-in-github",
        "colab_type": "text"
      },
      "source": [
        "<a href=\"https://colab.research.google.com/github/PraghyaThakre/AIML/blob/Dev/yolov3.ipynb\" target=\"_parent\"><img src=\"https://colab.research.google.com/assets/colab-badge.svg\" alt=\"Open In Colab\"/></a>"
      ]
    },
    {
      "cell_type": "code",
      "metadata": {
        "colab": {
          "base_uri": "https://localhost:8080/"
        },
        "id": "lQ_vmmLzriJ8",
        "outputId": "84e429e0-10b0-4630-a1ce-1ec140f9f96b"
      },
      "source": [
        "from google.colab import drive\n",
        "drive.mount('/content/drive')"
      ],
      "execution_count": null,
      "outputs": [
        {
          "output_type": "stream",
          "text": [
            "Mounted at /content/drive\n"
          ],
          "name": "stdout"
        }
      ]
    },
    {
      "cell_type": "code",
      "metadata": {
        "colab": {
          "base_uri": "https://localhost:8080/"
        },
        "id": "b1ZJxoUrrmM3",
        "outputId": "d76353a7-75ff-42a5-e9c5-6f3f1c11e400"
      },
      "source": [
        "!ls /content/drive/MyDrive/yolov4"
      ],
      "execution_count": null,
      "outputs": [
        {
          "output_type": "stream",
          "text": [
            "data  yolov3.ipynb\n"
          ],
          "name": "stdout"
        }
      ]
    },
    {
      "cell_type": "code",
      "metadata": {
        "colab": {
          "base_uri": "https://localhost:8080/"
        },
        "id": "yI-9mXFrrmPF",
        "outputId": "eb880aee-720c-41fb-94fe-4c013ac40d18"
      },
      "source": [
        "cd /content/drive/MyDrive/yolov4/data/"
      ],
      "execution_count": null,
      "outputs": [
        {
          "output_type": "stream",
          "text": [
            "/content/drive/MyDrive/yolov4/data\n"
          ],
          "name": "stdout"
        }
      ]
    },
    {
      "cell_type": "code",
      "metadata": {
        "colab": {
          "base_uri": "https://localhost:8080/"
        },
        "id": "meSM1NIirmQZ",
        "outputId": "b2275f7f-dcdc-41e6-e167-89a796a1d274"
      },
      "source": [
        "!unzip '/content/drive/MyDrive/yolov4/data/Invoice_Image.zip'  -d '/content/drive/MyDrive/yolov4/data'"
      ],
      "execution_count": null,
      "outputs": [
        {
          "output_type": "stream",
          "text": [
            "Archive:  /content/drive/MyDrive/yolov4/data/Invoice_Image.zip\n",
            "   creating: /content/drive/MyDrive/yolov4/data/Invoice_Image/\n",
            "  inflating: /content/drive/MyDrive/yolov4/data/Invoice_Image/1.jpg  \n",
            "  inflating: /content/drive/MyDrive/yolov4/data/Invoice_Image/10.jpg  \n",
            "  inflating: /content/drive/MyDrive/yolov4/data/Invoice_Image/11.jpg  \n",
            "  inflating: /content/drive/MyDrive/yolov4/data/Invoice_Image/12.png  \n",
            "  inflating: /content/drive/MyDrive/yolov4/data/Invoice_Image/13.jpg  \n",
            "  inflating: /content/drive/MyDrive/yolov4/data/Invoice_Image/14.jpg  \n",
            "  inflating: /content/drive/MyDrive/yolov4/data/Invoice_Image/15.jpg  \n",
            "  inflating: /content/drive/MyDrive/yolov4/data/Invoice_Image/16.jpg  \n",
            "  inflating: /content/drive/MyDrive/yolov4/data/Invoice_Image/17.jpg  \n",
            "  inflating: /content/drive/MyDrive/yolov4/data/Invoice_Image/18.jpg  \n",
            "  inflating: /content/drive/MyDrive/yolov4/data/Invoice_Image/19.jpg  \n",
            "  inflating: /content/drive/MyDrive/yolov4/data/Invoice_Image/2.png  \n",
            "  inflating: /content/drive/MyDrive/yolov4/data/Invoice_Image/20.jpg  \n",
            "  inflating: /content/drive/MyDrive/yolov4/data/Invoice_Image/21.png  \n",
            "  inflating: /content/drive/MyDrive/yolov4/data/Invoice_Image/22.png  \n",
            "  inflating: /content/drive/MyDrive/yolov4/data/Invoice_Image/23.png  \n",
            "  inflating: /content/drive/MyDrive/yolov4/data/Invoice_Image/24.jpg  \n",
            "  inflating: /content/drive/MyDrive/yolov4/data/Invoice_Image/25.jpg  \n",
            "  inflating: /content/drive/MyDrive/yolov4/data/Invoice_Image/26.jpg  \n",
            "  inflating: /content/drive/MyDrive/yolov4/data/Invoice_Image/27.png  \n",
            "  inflating: /content/drive/MyDrive/yolov4/data/Invoice_Image/28.png  \n",
            "  inflating: /content/drive/MyDrive/yolov4/data/Invoice_Image/29.png  \n",
            "  inflating: /content/drive/MyDrive/yolov4/data/Invoice_Image/3.png  \n",
            "  inflating: /content/drive/MyDrive/yolov4/data/Invoice_Image/30.png  \n",
            "  inflating: /content/drive/MyDrive/yolov4/data/Invoice_Image/31.png  \n",
            "  inflating: /content/drive/MyDrive/yolov4/data/Invoice_Image/32.png  \n",
            "  inflating: /content/drive/MyDrive/yolov4/data/Invoice_Image/33.png  \n",
            "  inflating: /content/drive/MyDrive/yolov4/data/Invoice_Image/34.png  \n",
            "  inflating: /content/drive/MyDrive/yolov4/data/Invoice_Image/35.png  \n",
            "  inflating: /content/drive/MyDrive/yolov4/data/Invoice_Image/36.png  \n",
            "  inflating: /content/drive/MyDrive/yolov4/data/Invoice_Image/37.png  \n",
            "  inflating: /content/drive/MyDrive/yolov4/data/Invoice_Image/38.png  \n",
            "  inflating: /content/drive/MyDrive/yolov4/data/Invoice_Image/39.png  \n",
            "  inflating: /content/drive/MyDrive/yolov4/data/Invoice_Image/4.png  \n",
            "  inflating: /content/drive/MyDrive/yolov4/data/Invoice_Image/40.jpg  \n",
            "  inflating: /content/drive/MyDrive/yolov4/data/Invoice_Image/41.png  \n",
            "  inflating: /content/drive/MyDrive/yolov4/data/Invoice_Image/42.png  \n",
            "  inflating: /content/drive/MyDrive/yolov4/data/Invoice_Image/43.png  \n",
            "  inflating: /content/drive/MyDrive/yolov4/data/Invoice_Image/44.jpg  \n",
            "  inflating: /content/drive/MyDrive/yolov4/data/Invoice_Image/45.jpg  \n",
            "  inflating: /content/drive/MyDrive/yolov4/data/Invoice_Image/46.jpg  \n",
            "  inflating: /content/drive/MyDrive/yolov4/data/Invoice_Image/47.jpg  \n",
            "  inflating: /content/drive/MyDrive/yolov4/data/Invoice_Image/48.jpg  \n",
            "  inflating: /content/drive/MyDrive/yolov4/data/Invoice_Image/49.jpg  \n",
            "  inflating: /content/drive/MyDrive/yolov4/data/Invoice_Image/5.png  \n",
            "  inflating: /content/drive/MyDrive/yolov4/data/Invoice_Image/50.jpg  \n",
            "  inflating: /content/drive/MyDrive/yolov4/data/Invoice_Image/51.jpg  \n",
            "  inflating: /content/drive/MyDrive/yolov4/data/Invoice_Image/52.jpg  \n",
            "  inflating: /content/drive/MyDrive/yolov4/data/Invoice_Image/53.jpg  \n",
            "  inflating: /content/drive/MyDrive/yolov4/data/Invoice_Image/54.png  \n",
            "  inflating: /content/drive/MyDrive/yolov4/data/Invoice_Image/55.png  \n",
            "  inflating: /content/drive/MyDrive/yolov4/data/Invoice_Image/56.png  \n",
            "  inflating: /content/drive/MyDrive/yolov4/data/Invoice_Image/57.png  \n",
            "  inflating: /content/drive/MyDrive/yolov4/data/Invoice_Image/58.png  \n",
            "  inflating: /content/drive/MyDrive/yolov4/data/Invoice_Image/59.png  \n",
            "  inflating: /content/drive/MyDrive/yolov4/data/Invoice_Image/6.jpg  \n",
            "  inflating: /content/drive/MyDrive/yolov4/data/Invoice_Image/60.png  \n",
            "  inflating: /content/drive/MyDrive/yolov4/data/Invoice_Image/61.gif  \n",
            "  inflating: /content/drive/MyDrive/yolov4/data/Invoice_Image/62.jpg  \n",
            "  inflating: /content/drive/MyDrive/yolov4/data/Invoice_Image/63.jpg  \n",
            "  inflating: /content/drive/MyDrive/yolov4/data/Invoice_Image/64.jpg  \n",
            "  inflating: /content/drive/MyDrive/yolov4/data/Invoice_Image/65.jpg  \n",
            "  inflating: /content/drive/MyDrive/yolov4/data/Invoice_Image/66.png  \n",
            "  inflating: /content/drive/MyDrive/yolov4/data/Invoice_Image/67.png  \n",
            "  inflating: /content/drive/MyDrive/yolov4/data/Invoice_Image/68.jpg  \n",
            "  inflating: /content/drive/MyDrive/yolov4/data/Invoice_Image/69.jpg  \n",
            "  inflating: /content/drive/MyDrive/yolov4/data/Invoice_Image/7.png  \n",
            "  inflating: /content/drive/MyDrive/yolov4/data/Invoice_Image/70.jpg  \n",
            "  inflating: /content/drive/MyDrive/yolov4/data/Invoice_Image/71.jpg  \n",
            "  inflating: /content/drive/MyDrive/yolov4/data/Invoice_Image/8.jpg  \n",
            "  inflating: /content/drive/MyDrive/yolov4/data/Invoice_Image/9.png  \n"
          ],
          "name": "stdout"
        }
      ]
    },
    {
      "cell_type": "code",
      "metadata": {
        "id": "FFa1TB99rmSc"
      },
      "source": [],
      "execution_count": null,
      "outputs": []
    },
    {
      "cell_type": "code",
      "metadata": {
        "id": "xY1zmaLTrmTq"
      },
      "source": [],
      "execution_count": null,
      "outputs": []
    },
    {
      "cell_type": "code",
      "metadata": {
        "id": "7LoyJBSGrmWo"
      },
      "source": [],
      "execution_count": null,
      "outputs": []
    },
    {
      "cell_type": "code",
      "metadata": {
        "id": "KJpTGo3Brmab"
      },
      "source": [],
      "execution_count": null,
      "outputs": []
    }
  ]
}